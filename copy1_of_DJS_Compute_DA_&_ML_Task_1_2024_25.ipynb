{
  "nbformat": 4,
  "nbformat_minor": 0,
  "metadata": {
    "colab": {
      "provenance": [],
      "include_colab_link": true
    },
    "kernelspec": {
      "name": "python3",
      "display_name": "Python 3"
    },
    "language_info": {
      "name": "python"
    }
  },
  "cells": [
    {
      "cell_type": "markdown",
      "metadata": {
        "id": "view-in-github",
        "colab_type": "text"
      },
      "source": [
        "<a href=\"https://colab.research.google.com/github/rohana-2005/djs-compute-tasks/blob/main/copy1_of_DJS_Compute_DA_%26_ML_Task_1_2024_25.ipynb\" target=\"_parent\"><img src=\"https://colab.research.google.com/assets/colab-badge.svg\" alt=\"Open In Colab\"/></a>"
      ]
    },
    {
      "cell_type": "markdown",
      "source": [
        "**General Instructions:**\n",
        "\n",
        "*   Please make a copy of this colab notebook in your own drive and solve the questions in the copy. Do not edit the original file.\n",
        "\n",
        "*   All participants are encouraged to learn the basics of python including data types, operators, loops, conditional statements, handling user-defined input, strings, string methods, lists, list comprehension, sets, tuples, dictionaries and basic object-oriented programming concepts before coming to the interview.\n",
        "\n",
        "Beginners unfamiliar with Python are advised to watch the following tutorial before beginning Task 1.\n",
        "\n",
        "**Python Tutorial:** https://youtu.be/_uQrJ0TkZlc?feature=shared\n",
        "\n",
        "\n",
        "**Note:** The expected output is given in the cells below the question.\n"
      ],
      "metadata": {
        "id": "PiZZfxvj57LK"
      }
    },
    {
      "cell_type": "markdown",
      "source": [
        "# Task 1 - Basics of Python\n",
        "\n",
        "\n",
        "\n",
        "> It is the year 3031 and the Earth has been invaded by an alien species from the planet of Dioneterra. The resources on their own planet have become severely depleted and they're determined to subjugate humans and take control of the Earth's resources. The Dioneterrans can take on the appearance of any human. The world has been thrown into chaos and fear as the aliens have infiltrated all levels of government. You don't know who to trust as anyone can be an alien in disguise.\n",
        "\n",
        "\n",
        "\n",
        "\n"
      ],
      "metadata": {
        "id": "FgdtUgoiauGY"
      }
    },
    {
      "cell_type": "markdown",
      "source": [
        "**Question 1:**\n",
        "You have a group of people you can trust, whose identities you have confirmed as humans. Unfortunately, since the aliens have access to government resources they have information on all citizens. It would be the height of foolishness to call your team members by their own names while on missions to save humanity. As such you need to generate secret code names for each member.\n",
        "\n",
        "Given below is a list of names. Your job is to write a function codename_generator() that takes the given list as input and prints every possible combination of code names from the given list, separated by whitespace (e.g. Orion Barracuda). Take care to not print codenames with the same name twice (e.g. Orion Orion) or two codenames with the same combination (e.g. if you have a codename Orion Barracuda, then you cannot have a codename Barracuda Orion)."
      ],
      "metadata": {
        "id": "jk_UOVbvcfJb"
      }
    },
    {
      "cell_type": "code",
      "execution_count": null,
      "metadata": {
        "id": "LmwLUF-kahv0"
      },
      "outputs": [],
      "source": [
        "name_list = [\"Orion\", \"Barracuda\", \"Amethyst\", \"Blade\", \"Wasp\", \"Nemesis\", \"Fury\", \"Cobra\", \"Tempest\", \"Leo\", \"Scythe\"]"
      ]
    },
    {
      "cell_type": "code",
      "source": [
        "name_list = [\"Orion\", \"Barracuda\", \"Amethyst\", \"Blade\", \"Wasp\", \"Nemesis\", \"Fury\", \"Cobra\", \"Tempest\", \"Leo\", \"Scythe\"]\n",
        "\n",
        "\n",
        "def codename_generator(name_list):\n",
        "    code_name = []\n",
        "    for i in range(len(name_list)):\n",
        "        for j in range(i + 1, len(name_list)):\n",
        "            code_name.append(f\"{name_list[i]} {name_list[j]}\")\n",
        "    print(code_name)\n",
        "\n",
        "codename_generator(name_list)"
      ],
      "metadata": {
        "id": "H3vbMHoYf5Q1",
        "colab": {
          "base_uri": "https://localhost:8080/"
        },
        "outputId": "f5f9c10d-2f7a-4b6d-a07d-668dd9ac8ebd"
      },
      "execution_count": null,
      "outputs": [
        {
          "output_type": "stream",
          "name": "stdout",
          "text": [
            "['Orion Barracuda', 'Orion Amethyst', 'Orion Blade', 'Orion Wasp', 'Orion Nemesis', 'Orion Fury', 'Orion Cobra', 'Orion Tempest', 'Orion Leo', 'Orion Scythe', 'Barracuda Amethyst', 'Barracuda Blade', 'Barracuda Wasp', 'Barracuda Nemesis', 'Barracuda Fury', 'Barracuda Cobra', 'Barracuda Tempest', 'Barracuda Leo', 'Barracuda Scythe', 'Amethyst Blade', 'Amethyst Wasp', 'Amethyst Nemesis', 'Amethyst Fury', 'Amethyst Cobra', 'Amethyst Tempest', 'Amethyst Leo', 'Amethyst Scythe', 'Blade Wasp', 'Blade Nemesis', 'Blade Fury', 'Blade Cobra', 'Blade Tempest', 'Blade Leo', 'Blade Scythe', 'Wasp Nemesis', 'Wasp Fury', 'Wasp Cobra', 'Wasp Tempest', 'Wasp Leo', 'Wasp Scythe', 'Nemesis Fury', 'Nemesis Cobra', 'Nemesis Tempest', 'Nemesis Leo', 'Nemesis Scythe', 'Fury Cobra', 'Fury Tempest', 'Fury Leo', 'Fury Scythe', 'Cobra Tempest', 'Cobra Leo', 'Cobra Scythe', 'Tempest Leo', 'Tempest Scythe', 'Leo Scythe']\n"
          ]
        }
      ]
    },
    {
      "cell_type": "markdown",
      "source": [
        "**Question 2:**\n",
        "You recently caught wind of the rumour that a Resistance Movement against the aliens is starting to gain traction. You and your group of trustworthy humans resolve to go to the headquarters of the Resistance and join the movement.\n",
        "\n",
        "You reach the headquarters and find utter chaos, the leader of the Resistance tells you that they have so many refugees and as a result their registration system is a mess and they have no way of telling apart actual humans and aliens who might have infiltrated the headquarters as humans.\n",
        "\n",
        "He knows that you have programming skills and asks for your help in weeding out the aliens.\n",
        "\n",
        "Given below in the form of a list is the register of names of refugees that the headquarters maintains. Sort the names into two lists - potential aliens and humans. Alien names may:\n",
        "*   begin with the letter 'G'\n",
        "*   contain the substring 'arz'\n",
        "*   contain a digit\n",
        "\n",
        "Additionally, ensure that the new lists do not contain duplicate names and handle any problems that may arise due to case-sensitivity and whitespaces.\n",
        "\n"
      ],
      "metadata": {
        "id": "gezvSe3_hgoU"
      }
    },
    {
      "cell_type": "code",
      "source": [
        "register = [\"Gunther\", \"karzan\", \"pip1do\", \"amelia\", \"emma\", \"jarzk\", \"P0ppy\", \"gunther\", \"Daisy\",\" Demelza \", \"Lisa \", \"garzon \", \"marz4\"]"
      ],
      "metadata": {
        "id": "xqobzAhOunhf"
      },
      "execution_count": null,
      "outputs": []
    },
    {
      "cell_type": "code",
      "source": [
        "def sort_names(register):\n",
        "    Humans = []\n",
        "    Aliens = []\n",
        "    new_register1 = [n.strip().lower() for n in register]\n",
        "\n",
        "    seen = set()\n",
        "    new_register2 = [name for name in new_register1 if not (name in seen or seen.add(name))]\n",
        "\n",
        "    for i in new_register2:\n",
        "        if i[0] == \"g\":\n",
        "            Aliens.append(i)\n",
        "        elif \"arz\" in i:\n",
        "            Aliens.append(i)\n",
        "        elif any(char.isdigit() for char in i):\n",
        "            Aliens.append(i)\n",
        "        else:\n",
        "            Humans.append(i)\n",
        "    print(Humans)\n",
        "    print(Aliens)\n",
        "\n",
        "register = [\"Gunther\", \"karzan\", \"pip1do\", \"amelia\", \"emma\", \"jarzk\", \"P0ppy\", \"gunther\", \"Daisy\", \" Demelza \", \"Lisa \", \"garzon \", \"marz4\"]\n",
        "sort_names(register)"
      ],
      "metadata": {
        "colab": {
          "base_uri": "https://localhost:8080/"
        },
        "id": "ZHWkgegKvpgZ",
        "outputId": "8c7e6d9c-3163-4773-8e27-9b9d47921b9e"
      },
      "execution_count": null,
      "outputs": [
        {
          "output_type": "stream",
          "name": "stdout",
          "text": [
            "['amelia', 'emma', 'daisy', 'demelza', 'lisa']\n",
            "['gunther', 'karzan', 'pip1do', 'jarzk', 'p0ppy', 'garzon', 'marz4']\n"
          ]
        }
      ]
    },
    {
      "cell_type": "markdown",
      "source": [
        "**Question 3:** Now that you have identified the potential aliens, its now time to decide how probable it is that these refugees are aliens.\n",
        "\n",
        "Prepare a dictionary where the keys are the names from the potential aliens list and the associated values are percentages from 0-100 of how probable it is that the refugee with those names are aliens.\n",
        "\n",
        "Given below are the conditions and associated probabilities:\n",
        "*   name starts with 'g' - 25%\n",
        "*   name contains \"arz\" - 50%\n",
        "*   name starts with 'g' and contains \"arz\" - 75%\n",
        "*   name has a digit - 100%"
      ],
      "metadata": {
        "id": "coC9Sbqd0bq0"
      }
    },
    {
      "cell_type": "code",
      "source": [
        "Aliens = ['gunther' , 'jarzk', 'marz4', 'pip1do', 'karzan', 'garzon', 'p0ppy']\n",
        "dict = {}\n",
        "\n",
        "percent = 0\n",
        "for j in Aliens:\n",
        "    name = j\n",
        "    if any(char.isdigit() for char in j):\n",
        "        percent = 100\n",
        "    elif j[0]==\"g\" and \"arz\" in j:\n",
        "        percent = 75\n",
        "    elif \"arz\" in j:\n",
        "        percent = 50\n",
        "    elif j[0]==\"g\":\n",
        "        percent = 25\n",
        "\n",
        "    dict.update({name: percent})\n",
        "print(dict)"
      ],
      "metadata": {
        "colab": {
          "base_uri": "https://localhost:8080/"
        },
        "id": "aPuIzBQv2sSS",
        "outputId": "2096d402-a369-4755-99ed-e01adf52e4c3"
      },
      "execution_count": null,
      "outputs": [
        {
          "output_type": "stream",
          "name": "stdout",
          "text": [
            "{'gunther': 25, 'jarzk': 50, 'marz4': 100, 'pip1do': 100, 'karzan': 50, 'garzon': 75, 'p0ppy': 100}\n"
          ]
        }
      ]
    },
    {
      "cell_type": "markdown",
      "source": [
        "**Question 4:** Now that you have completely weeded out the aliens, onto the next part of the plan.\n",
        "\n",
        "There are 12 districts in your city - I to XII. Another resistance group has agreed to share supplies with your group. They send you a list of districts they are operational in and you have in hand, the list of districts your group has members in. Determine which districts you can meet up in, i.e., districts that both the groups operate in.\n",
        "\n",
        "Hint: set operations may prove useful."
      ],
      "metadata": {
        "id": "6z7Wr4BD8xSA"
      }
    },
    {
      "cell_type": "code",
      "source": [
        "your_districts = ['I', 'IV', 'V', 'I', 'VI', 'IX', 'X', 'II', 'III', 'I']\n",
        "their_districts = ['V', 'IV', 'VI', 'XII', 'VII', 'IV', 'VI', 'VIII', 'III']"
      ],
      "metadata": {
        "id": "xUCGsUO9-use"
      },
      "execution_count": null,
      "outputs": []
    },
    {
      "cell_type": "code",
      "source": [
        "your_districts = ['I', 'IV', 'V', 'I', 'VI', 'IX', 'X', 'II', 'III', 'I']\n",
        "their_districts = ['V', 'IV', 'VI', 'XII', 'VII', 'IV', 'VI', 'VIII', 'III']\n",
        "Meet_Up_Districts = set()\n",
        "\n",
        "for i in your_districts:\n",
        "    if i in their_districts:\n",
        "        Meet_Up_Districts.add(i)\n",
        "print(Meet_Up_Districts)"
      ],
      "metadata": {
        "colab": {
          "base_uri": "https://localhost:8080/"
        },
        "id": "y7MSDDAL_ZhT",
        "outputId": "e3130f8b-0d69-4baa-e7f0-411edafd4d76"
      },
      "execution_count": null,
      "outputs": [
        {
          "output_type": "stream",
          "name": "stdout",
          "text": [
            "{'III', 'IV', 'VI', 'V'}\n"
          ]
        }
      ]
    },
    {
      "cell_type": "markdown",
      "source": [
        "Let's take the difficulty up a notch shall we? Your spies have informed you that the alien goverment has been setting up patrols in some districts to curb rebel movement. One of the spies managed to get a list of the districts that are being patrolled. Ensure that your meet up with the other rebel group does not take place in a patrolled district so that you do not get caught."
      ],
      "metadata": {
        "id": "0MHXt5lKAYIW"
      }
    },
    {
      "cell_type": "code",
      "source": [
        "patrolled_districts = ['I', 'II', 'XII', 'IX', 'XI', 'IV', 'II', 'VI']"
      ],
      "metadata": {
        "id": "M-2hfJTOCfAz"
      },
      "execution_count": null,
      "outputs": []
    },
    {
      "cell_type": "code",
      "source": [
        "your_districts = ['I', 'IV', 'V', 'I', 'VI', 'IX', 'X', 'II', 'III', 'I']\n",
        "their_districts = ['V', 'IV', 'VI', 'XII', 'VII', 'IV', 'VI', 'VIII', 'III']\n",
        "Meet_Up_Districts = set()\n",
        "\n",
        "for i in your_districts:\n",
        "    if i in their_districts:\n",
        "        Meet_Up_Districts.add(i)\n",
        "\n",
        "\n",
        "patrolled_districts = ['I', 'II', 'XII', 'IX', 'XI', 'IV', 'II', 'VI']\n",
        "new_Meet_Up_Districts = set()\n",
        "for i in Meet_Up_Districts:\n",
        "    if i not in patrolled_districts:\n",
        "        new_Meet_Up_Districts.add(i)\n",
        "\n",
        "print(new_Meet_Up_Districts)\n"
      ],
      "metadata": {
        "colab": {
          "base_uri": "https://localhost:8080/"
        },
        "id": "bYjT2EfTC0uu",
        "outputId": "2c97e1e2-61db-47f4-d459-52c26df262ff"
      },
      "execution_count": null,
      "outputs": [
        {
          "output_type": "stream",
          "name": "stdout",
          "text": [
            "{'III', 'V'}\n"
          ]
        }
      ]
    },
    {
      "cell_type": "code",
      "source": [],
      "metadata": {
        "id": "lWru4GK5_5yT"
      },
      "execution_count": null,
      "outputs": []
    },
    {
      "cell_type": "markdown",
      "source": [
        "**Question 5:** Given below is a list of tuples. Each tuple in this list contains the rank and the name of a Dioneterran Commander. Your job is to define two functions: sort_by_rank() in descending order and sort_by_name() alphabetically to sort the given list by rank and name, respectively.\n",
        "\n",
        "Hint: use lambda expressions"
      ],
      "metadata": {
        "id": "hryYd_ubD2U8"
      }
    },
    {
      "cell_type": "code",
      "source": [
        "commanders = {(4, \"Barzak\"), (2, \"Donesia\"), (5, \"Zeroza\"), (1, \"Yggacia\"), (3, \"Larzon\")}"
      ],
      "metadata": {
        "id": "XniLIPBoGrl9"
      },
      "execution_count": null,
      "outputs": []
    },
    {
      "cell_type": "code",
      "source": [
        "commanders = [(4, \"Barzak\"), (2, \"Donesia\"), (5, \"Zeroza\"), (1, \"Yggacia\"), (3, \"Larzon\")]\n",
        "\n",
        "def sort_by_rank(commanders):\n",
        "    rank = sorted(commanders, key=lambda x:x[0], reverse=True)\n",
        "    print(f\"Sorted by Rank: {rank}\")\n",
        "\n",
        "sort_by_rank(commanders)\n",
        "\n",
        "def sort_by_name(commanders):\n",
        "    name = sorted(commanders, key=lambda x:x[1])\n",
        "    print(f\"Sorted by Name: {name}\")\n",
        "\n",
        "sort_by_name(commanders)\n"
      ],
      "metadata": {
        "id": "bjq8PTTOHh56",
        "colab": {
          "base_uri": "https://localhost:8080/"
        },
        "outputId": "5dac50ae-d477-44e0-ab7a-8fe746e594e6"
      },
      "execution_count": null,
      "outputs": [
        {
          "output_type": "stream",
          "name": "stdout",
          "text": [
            "Sorted by Rank: [(5, 'Zeroza'), (4, 'Barzak'), (3, 'Larzon'), (2, 'Donesia'), (1, 'Yggacia')]\n",
            "Sorted by Name: [(4, 'Barzak'), (2, 'Donesia'), (3, 'Larzon'), (1, 'Yggacia'), (5, 'Zeroza')]\n"
          ]
        }
      ]
    },
    {
      "cell_type": "markdown",
      "source": [
        "**Question 6:** You have been given the task of calculating the danger level of Dioneterran Commanders. To accomplish this task, you're required to define a class Commander with the attributes name, rank, weight, height and age. Implement a method calculate_danger() that returns the danger level by adding the height to the weight and dividing the result by the age, round off to the nearest integer.\n",
        "\n",
        "Create a Commander object with the necessary parameters and print the danger level."
      ],
      "metadata": {
        "id": "90Nijs1KIZZ0"
      }
    },
    {
      "cell_type": "code",
      "source": [
        "class Commander:\n",
        "    def __init__(self, name, rank, weight, height, age):\n",
        "        self.name = name\n",
        "        self.rank = rank\n",
        "        self.weight = weight\n",
        "        self.height =height\n",
        "        self.age = age\n",
        "\n",
        "    def calculate_danger(self):\n",
        "        self.danger_level = round((self.height + self.weight)/self.age)\n",
        "        return self.danger_level\n",
        "\n",
        "\n",
        "commander = Commander(\"xyz\", 2, 50, 155, 19)\n",
        "print(f\"Danger Level = {commander.calculate_danger()}\")"
      ],
      "metadata": {
        "colab": {
          "base_uri": "https://localhost:8080/"
        },
        "id": "gnI1a0TFLoqh",
        "outputId": "b3d5c612-ca93-4b14-c086-214548c20f96"
      },
      "execution_count": null,
      "outputs": [
        {
          "output_type": "stream",
          "name": "stdout",
          "text": [
            "Danger Level = 11\n"
          ]
        }
      ]
    },
    {
      "cell_type": "markdown",
      "source": [
        "**Question 7:** All the refugees in the headquarters who have been confirmed as humans have been assigned an ID. A lock has been installed at the gate. Your job is to write a regular expression that checks whether the ID entered is a valid one. Valid IDs have the following features:\n",
        "*   They are strings of exactly 7 characters\n",
        "*   The first 3 characters are uppercase alphabets\n",
        "*   The other last 4 characters are digits.\n",
        "\n",
        "Given below is a list of IDs entered at the gate. Determine which ones are valid.\n",
        "\n",
        "\n",
        "P.S. Don't forget to import the re module"
      ],
      "metadata": {
        "id": "74iydRkwULOi"
      }
    },
    {
      "cell_type": "code",
      "source": [
        "test_ids = [\"ABC1234\", \"sbaz56\", \"Wuy1452\", \"TYP9006\", \"KZED439\"]"
      ],
      "metadata": {
        "id": "WcroHcC4VUaY"
      },
      "execution_count": null,
      "outputs": []
    },
    {
      "cell_type": "code",
      "source": [
        "import re\n",
        "\n",
        "Valid_IDs = []\n",
        "test_ids = [\"ABC1234\", \"sbaz56\", \"Wuy1452\", \"TYP9006\", \"KZED439\"]\n",
        "\n",
        "pattern1 = r\"^[A-Z]{3}\"\n",
        "pattern2 = r\"[0-9]{4}$\"\n",
        "\n",
        "for i in test_ids:\n",
        "    if len(i) == 7:\n",
        "        if re.match(pattern1, i) and re.search(pattern2, i):\n",
        "            Valid_IDs.append(i)\n",
        "\n",
        "print(f\"Valid IDs= {Valid_IDs}\")"
      ],
      "metadata": {
        "colab": {
          "base_uri": "https://localhost:8080/"
        },
        "id": "_Gj97hjmVpGG",
        "outputId": "d2cf845b-d7ce-449b-f6e5-0111b85479c4"
      },
      "execution_count": null,
      "outputs": [
        {
          "output_type": "stream",
          "name": "stdout",
          "text": [
            "Valid IDs= ['ABC1234', 'TYP9006']\n"
          ]
        }
      ]
    },
    {
      "cell_type": "markdown",
      "source": [
        "For a better understanding of Regular Expressions: https://realpython.com/regex-python/"
      ],
      "metadata": {
        "id": "ZlnxyGHm7z0J"
      }
    }
  ]
}